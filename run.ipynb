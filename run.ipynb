{
 "cells": [
  {
   "cell_type": "code",
   "execution_count": 5,
   "metadata": {},
   "outputs": [],
   "source": [
    "CONFIG_NAME = 'v1'\n",
    "ISSERVER = False\n",
    "SERVER_FOLDER_NAME = 'clean-signal-range-model'"
   ]
  },
  {
   "cell_type": "code",
   "execution_count": 6,
   "metadata": {},
   "outputs": [],
   "source": [
    "\n",
    "from utils import *\n",
    "import matplotlib.pyplot as plt\n",
    "import seaborn as sns\n",
    "import pandas as pd\n",
    "import numpy as np\n",
    "import warnings\n",
    "import json\n",
    "import os\n",
    "import sys\n",
    "\n",
    "\n",
    "%load_ext autoreload\n",
    "%autoreload 2\n",
    "%matplotlib inline\n",
    "\n",
    "warnings.filterwarnings('ignore')\n",
    "\n",
    "plt.rcParams['figure.figsize'] = (16, 3)\n",
    "pd.reset_option('display.')\n",
    "# pd.options.display.max_rows = 1000\n",
    "\n",
    "if ISSERVER:\n",
    "    folder_path = f'/notebook/personal/ksuchoi216/{SERVER_FOLDER_NAME}'\n",
    "    print('='*60)\n",
    "    if folder_path not in sys.path:\n",
    "        sys.path.insert(0, folder_path)\n",
    "        os.chdir(folder_path)\n",
    "    !pwd\n",
    "    print('='*60)\n",
    "    \n",
    "    \n",
    "CONFIG_DIR = f'./configs/config_{CONFIG_NAME}.json'\n",
    "if os.path.exists(CONFIG_DIR):\n",
    "    class Configer:\n",
    "        def __init__(self, config_path):\n",
    "            self.config_path = config_path\n",
    "\n",
    "        def get(self):\n",
    "            with open(self.config_path, \"r\") as path:\n",
    "                self.cfg = json.load(path)\n",
    "            return self.cfg\n",
    "        \n",
    "    cfger = Configer(CONFIG_DIR)\n",
    "    cfg = cfger.get()\n",
    "    printd(cfg)"
   ]
  },
  {
   "cell_type": "code",
   "execution_count": null,
   "metadata": {},
   "outputs": [],
   "source": []
  }
 ],
 "metadata": {
  "kernelspec": {
   "display_name": "base",
   "language": "python",
   "name": "python3"
  },
  "language_info": {
   "codemirror_mode": {
    "name": "ipython",
    "version": 3
   },
   "file_extension": ".py",
   "mimetype": "text/x-python",
   "name": "python",
   "nbconvert_exporter": "python",
   "pygments_lexer": "ipython3",
   "version": "3.10.9"
  },
  "orig_nbformat": 4
 },
 "nbformat": 4,
 "nbformat_minor": 2
}
